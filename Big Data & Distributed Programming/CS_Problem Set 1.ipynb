{
 "cells": [
  {
   "cell_type": "markdown",
   "metadata": {},
   "source": [
    "# Problem Set 1 - Working with Datasets and Exploring Pandas and Plots\n",
    "\n",
    "__TA__: _Madhumitha Saksthi_ <br>\n",
    "__Instructor__: _Ramesh Yerraballi_ <br>\n",
    "__Semester__: _Fall 2019_\n",
    "\n",
    "This problem set consist of 5 problems in total. The first two problems would give you an insight on using pandas. The next problem will focus on cleaning the dataset for missing datapoints. Finally, the last two problems would involve generating graphs based on the traffic dataset. \n",
    "\n",
    "This exercise discovers an extensive dataset on the subject of traffic on German roads provided by the BASt. It holds detailed numbers of cars, trucks and other vehicle groups passing more than 1,500 automatic counting stations. This dataset records for each counting station are provided on an hourly basis and they reach back to the year 2003.\n",
    "\n",
    "We will explore some new insights about the data given.\n",
    "\n",
    "Note for checking the code: \n",
    "1. Please be sure to provide relative path in all places where you are loading data from a location.\n",
    "2. Give clear spacing and comments for the solution code. \n",
    "3. If there is error running the code, points will be deducted. So, please submit a working code. "
   ]
  },
  {
   "cell_type": "markdown",
   "metadata": {},
   "source": [
    "# Import Libraries and Download data"
   ]
  },
  {
   "cell_type": "code",
   "execution_count": null,
   "metadata": {},
   "outputs": [],
   "source": [
    "import pandas as pd\n",
    "import matplotlib.pyplot as plt\n",
    "from matplotlib.ticker import FuncFormatter\n",
    "\n",
    "# download file from http://www.bast.de/videos/2016_A_S.zip\n",
    "df = pd.read_csv(r'2016_A_S.txt', sep=';')\n",
    "\n",
    "colors = ['#2678B2', '#AFC8E7', '#FD7F28', '#FDBB7D', \n",
    "          '#339E34', '#9ADE8D', '#D42A2F', '#FD9898', \n",
    "          '#9369BB', '#C5B1D4', '#8B564C', '#C39C95', \n",
    "          '#E179C1', '#F6B7D2', '#7F7F7F', '#C7C7C7']"
   ]
  },
  {
   "cell_type": "code",
   "execution_count": null,
   "metadata": {},
   "outputs": [],
   "source": [
    "#extract required columns and translate column names to English\n",
    "df = df[['Zst', 'Land', 'KFZ_R1', 'KFZ_R2', 'Datum', 'Stunde']]\n",
    "df.columns = ['nr', 'land', 'cars_r1', 'cars_r2', 'date', 'hour']\n",
    "df"
   ]
  },
  {
   "cell_type": "markdown",
   "metadata": {},
   "source": [
    "## Pandas: exercise 1\n",
    "In this exercise, print the data frame and you will notice that the format in which date has been provided as 161231 for 2016-12-31. Write a one liner code to convert the 'date' to DateTime format.The resulting date should appear as '2016-01-01 01:00:00' based on your code.  "
   ]
  },
  {
   "cell_type": "code",
   "execution_count": null,
   "metadata": {},
   "outputs": [],
   "source": [
    "# convert values in 'date' column to DateTime\n",
    "df.loc[df.hour == 24, 'hour'] = 0\n",
    "# Typecast date and hour columns to string & concatenate to represent \"yymmdd-hh\" format; Use to_datetime fucntion \n",
    "# to convert string to required timestamp \n",
    "df['date'] =  pd.to_datetime( df['date'].astype(str) + '-' + df['hour'].astype(str), format='%y%m%d-%H')\n",
    "df.date"
   ]
  },
  {
   "cell_type": "markdown",
   "metadata": {},
   "source": [
    "## Pandas: exercise 2\n",
    "In this exercise, based on the total sum across time for each land, print the land parameter with the maximum traffic. You would be using boolean indexing to indetify the land with the maximum traffic.Typically, you should be identifying the land with maximum traffic as one among the 16 values. "
   ]
  },
  {
   "cell_type": "code",
   "execution_count": null,
   "metadata": {},
   "outputs": [],
   "source": [
    "df_sum = df\n",
    "df_sum['sum'] = df_sum['cars_r1'] + df_sum['cars_r2']\n",
    "# Step 1: Calculate total traffic for each land across all dates; achieved by grouping df_sum with yearly freq\n",
    "df_byday_sum = df_sum.set_index('date').groupby(['land', pd.Grouper(freq='Y')])[['sum']].sum().reset_index()\n",
    "# print(df_byday_sum)\n",
    "# Identify land with maximum total traffic (cars1 + cars 2) by locating dataframe value which is equal to max value\n",
    "# of dataframe\n",
    "print(\"Land with the maximum traffic is:\", df_byday_sum.loc[df_byday_sum['sum'] == df_byday_sum['sum'].max(), 'land'].values[0])"
   ]
  },
  {
   "cell_type": "markdown",
   "metadata": {},
   "source": [
    "## Missing: exercise 3\n",
    "The code below will randomly generate index and remove the data point from those index. Using a technique of filling missing data, we will try to recover the lost data in the following exercise. "
   ]
  },
  {
   "cell_type": "code",
   "execution_count": null,
   "metadata": {},
   "outputs": [],
   "source": [
    "# Generate random indexes \n",
    "import random\n",
    "import numpy  as np\n",
    "index = []\n",
    "for x in range(1000):\n",
    "    index.append(random.randint(1,7273152))\n",
    "index = np.unique(index)\n",
    "df_missing = df\n",
    "df_missing.loc[index,'cars_r1'] = np.nan\n",
    "df_missing.loc[index,'cars_r2'] = np.nan"
   ]
  },
  {
   "cell_type": "code",
   "execution_count": null,
   "metadata": {},
   "outputs": [],
   "source": [
    "#When you print the dataframe you will notice that the values are set to NaN. \n",
    "print(df_missing.loc[index])"
   ]
  },
  {
   "cell_type": "markdown",
   "metadata": {},
   "source": [
    "# 3.1\n",
    "In what conditions should NaN values be filled with mean and median? \n",
    "(Hint: Consider outliers in the data)"
   ]
  },
  {
   "cell_type": "code",
   "execution_count": null,
   "metadata": {},
   "outputs": [],
   "source": [
    "#3.1(answer): Replacing NaN with mean is suitable for continuous data without outliers \n",
    "#             Replacing NaN with median is suitable for continuous data with outliers\n",
    "\n",
    "\n",
    "#3.2 Write the code to drop the rows with missing values \n",
    "df_part2 = df_missing.dropna(subset=['cars_r1', 'cars_r2'])\n",
    "#print(df_part2)\n",
    "\n",
    "#3.3 Fill the value with the previous time stamp value\n",
    "df_part3 = df_missing.fillna(method='ffill')\n",
    "#print(df_part3.loc[index])\n",
    "\n",
    "\n",
    "#3.4 Fill the value with a constant \n",
    "df_part4 = df_missing.fillna(0)\n",
    "#print(df_part4.loc[index])\n",
    "\n",
    "\n",
    "#3.5 Fill the value with the mean of value above and below the datapoint \n",
    "df_part5 = df_missing\n",
    "df_part5['cars_r1'] = (df_missing['cars_r1'].fillna(method='ffill') + df_missing['cars_r1'].fillna(method='bfill'))/2\n",
    "df_part5['cars_r2'] = (df_missing['cars_r2'].fillna(method='ffill') + df_missing['cars_r2'].fillna(method='bfill'))/2\n",
    "print(df_part5.loc[index])"
   ]
  },
  {
   "cell_type": "markdown",
   "metadata": {},
   "source": [
    "## Plot: exercise 4"
   ]
  },
  {
   "cell_type": "markdown",
   "metadata": {},
   "source": [
    "# Plot linechart of number of cars_r1 and cars_r2 vs date with different colors and legend.\n",
    "\n",
    "Using the `station` and `station_days`. Analyze what station and station_days represent and how they should be used. It is pretty straight forward.\n",
    "The plots have been generated and given below for your reference. The code writtern should generate similar graphs. "
   ]
  },
  {
   "cell_type": "code",
   "execution_count": null,
   "metadata": {},
   "outputs": [],
   "source": [
    "grouped_by_name = df.groupby(['nr'])\n",
    "number = 1177\n",
    "station = grouped_by_name.get_group(number)\n",
    "station_days = station.set_index('date').groupby([pd.Grouper(freq='D')])[['cars_r1', 'cars_r2']].sum().reset_index()\n",
    "#print(station)\n",
    "print(station_days)"
   ]
  },
  {
   "cell_type": "code",
   "execution_count": null,
   "metadata": {},
   "outputs": [],
   "source": [
    "# Set width, height, resolution of figure\n",
    "fig, ax = plt.subplots(figsize=(15, 8), dpi=200)\n",
    "# Plot sublot1 (x,y) for cars_r1 in blue color\n",
    "ax.plot(station_days['date'], station_days['cars_r1'], c=colors[0])\n",
    "# Plot subplot2 (x,y) for cars_r2 in orange color\n",
    "ax.plot(station_days['date'], station_days['cars_r2'], c=colors[2])\n",
    "# Format Y-Axis labels as multiples of thousand\n",
    "ax.yaxis.set_major_formatter(FuncFormatter(lambda x, p: format(int(x), ',')))\n",
    "# Place legend outside the plot in top right position\n",
    "ax.legend(loc='upper right', bbox_to_anchor=(1.1, 1.015))\n",
    "# Set title for the plot \n",
    "plt.title('station nr: ' + str(number))\n",
    "plt.margins(0)\n",
    "plt.show()"
   ]
  },
  {
   "cell_type": "markdown",
   "metadata": {},
   "source": [
    "## Plot exercise 5"
   ]
  },
  {
   "cell_type": "markdown",
   "metadata": {},
   "source": [
    "## Scatterplot: Top 3 busiest days per state"
   ]
  },
  {
   "cell_type": "code",
   "execution_count": null,
   "metadata": {},
   "outputs": [],
   "source": [
    "df_scatter = df\n",
    "df_scatter['sum'] = df_scatter['cars_r1'] + df_scatter['cars_r2']\n",
    "df_byday = df_scatter.set_index('date').groupby(['land', pd.Grouper(freq='D')])[['sum']].sum().reset_index()\n",
    "df_sorted = df_byday.sort_values(by=['sum'], ascending=False)\n",
    "df_clean = df_sorted.groupby(['land']).head(3)\n",
    "df_clean"
   ]
  },
  {
   "cell_type": "markdown",
   "metadata": {},
   "source": [
    "# Plot the different group of land vs date and show the 3 busiest days using the above DataFrames generated.\n",
    "\n",
    "You have to just write one line inside the for loop and plot."
   ]
  },
  {
   "cell_type": "code",
   "execution_count": null,
   "metadata": {},
   "outputs": [],
   "source": [
    "groups = df_clean.groupby('land')\n",
    "scatter_colors = iter(colors)\n",
    "\n",
    "fig, ax = plt.subplots(figsize=(15, 8), dpi=200)\n",
    "for name, group in groups:\n",
    "    dates = group['date'].dt.strftime('%Y-%m-%d').values\n",
    "    dates = [pd.to_datetime(d) for d in dates]\n",
    "    #Use scatter function to create scatterplots; args: x,y,area,color,label\n",
    "    ax.scatter(dates, group['sum'].values, s=200, c=next(scatter_colors), label=name)\n",
    "\n",
    "ax.yaxis.set_major_formatter(FuncFormatter(lambda x, p: format(int(x), ',')))\n",
    "ax.legend(loc='upper right', bbox_to_anchor=(1.1, 1.015))\n",
    "plt.show()"
   ]
  }
 ],
 "metadata": {
  "kernelspec": {
   "display_name": "Python 3",
   "language": "python",
   "name": "python3"
  },
  "language_info": {
   "codemirror_mode": {
    "name": "ipython",
    "version": 3
   },
   "file_extension": ".py",
   "mimetype": "text/x-python",
   "name": "python",
   "nbconvert_exporter": "python",
   "pygments_lexer": "ipython3",
   "version": "3.7.0"
  }
 },
 "nbformat": 4,
 "nbformat_minor": 2
}
